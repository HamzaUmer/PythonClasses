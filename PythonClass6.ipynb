{
 "cells": [
  {
   "cell_type": "markdown",
   "metadata": {},
   "source": [
    "# Positional Parameter"
   ]
  },
  {
   "cell_type": "code",
   "execution_count": 21,
   "metadata": {},
   "outputs": [
    {
     "name": "stdout",
     "output_type": "stream",
     "text": [
      "Enter Your first nameMirza\n",
      "Enter your Middle nameHamza\n",
      "ENter your Last nameUmer\n",
      "My name is Mirza Hamza Umer\n"
     ]
    }
   ],
   "source": [
    "def my_name():\n",
    "    first_name=input(\"Enter Your first name\")\n",
    "    middle_name=input(\"Enter your Middle name\")\n",
    "    last_name=input(\"ENter your Last name\")\n",
    "    my_full_name=first_name + ' ' + middle_name + ' ' + last_name\n",
    "    print(\"My name is \" +my_full_name.title())\n",
    "    \n",
    "my_name()"
   ]
  },
  {
   "cell_type": "code",
   "execution_count": 4,
   "metadata": {},
   "outputs": [
    {
     "name": "stdout",
     "output_type": "stream",
     "text": [
      "Enter Your first nameHamza\n",
      "Enter your Middle nameumer\n",
      "ENter your Last namekhan\n",
      "Hamzaumerkhan\n"
     ]
    }
   ],
   "source": [
    "my_name()"
   ]
  },
  {
   "cell_type": "code",
   "execution_count": 8,
   "metadata": {},
   "outputs": [],
   "source": [
    "#First Method\n",
    "def calculator():\n",
    "    num1=int(input(\"First number = \"))\n",
    "    num2=int(input(\"Second number = \"))\n",
    "    operator=input(\"Enter operator = \")\n",
    "    if operator == \"+\":\n",
    "        ans=num1+num2\n",
    "        print(f'{num1} + {num2} = {ans}')\n",
    "    elif operator == \"-\":\n",
    "        ans=num1-num2\n",
    "        print(f'{num1} - {num2} = {ans}')\n",
    "    elif operator == \"*\":\n",
    "        ans=num1*num2\n",
    "        print(f'{num1} x{num2} = {ans}')\n",
    "    elif operator == \"/\":   \n",
    "        ans=num1*num2\n",
    "        print(f'{num1} /{num2} = {ans}') \n",
    "    else:\n",
    "        print(\"Invalid operator\")\n"
   ]
  },
  {
   "cell_type": "code",
   "execution_count": 10,
   "metadata": {},
   "outputs": [
    {
     "name": "stdout",
     "output_type": "stream",
     "text": [
      "First number = 3\n",
      "Second number = 4\n",
      "ENter operator = -\n",
      "3 - 4 = -1\n"
     ]
    }
   ],
   "source": [
    "calculator()"
   ]
  },
  {
   "cell_type": "code",
   "execution_count": 2,
   "metadata": {},
   "outputs": [],
   "source": [
    "#second Method\n",
    "def cal(num1,num2,operator):\n",
    "    if operator == \"+\":\n",
    "        ans=num1+num2\n",
    "        print(f'{num1} + {num2} = {ans}')\n",
    "    elif operator == \"-\":\n",
    "        ans=num1-num2\n",
    "        print(f'{num1} - {num2} = {ans}')\n",
    "    elif operator == \"*\":\n",
    "        ans=num1*num2\n",
    "        print(f'{num1} x{num2} = {ans}')\n",
    "    elif operator == \"/\":   \n",
    "        ans=num1/num2\n",
    "        print(f'{num1} /{num2} = {ans}') \n",
    "    else:\n",
    "        print(\"Invalid operator\")"
   ]
  },
  {
   "cell_type": "code",
   "execution_count": 20,
   "metadata": {},
   "outputs": [
    {
     "name": "stdout",
     "output_type": "stream",
     "text": [
      "2 - 3 = -1\n"
     ]
    }
   ],
   "source": [
    " cal(2,3,'-')"
   ]
  },
  {
   "cell_type": "markdown",
   "metadata": {},
   "source": [
    "# KEYWORD ARGUMENT"
   ]
  },
  {
   "cell_type": "code",
   "execution_count": 3,
   "metadata": {},
   "outputs": [
    {
     "name": "stdout",
     "output_type": "stream",
     "text": [
      "2 + 5 = 7\n"
     ]
    }
   ],
   "source": [
    "cal(2,5,\"+\")"
   ]
  },
  {
   "cell_type": "code",
   "execution_count": 15,
   "metadata": {},
   "outputs": [
    {
     "name": "stdout",
     "output_type": "stream",
     "text": [
      "Invalid operator\n"
     ]
    }
   ],
   "source": [
    "cal(2,'+',5)"
   ]
  },
  {
   "cell_type": "code",
   "execution_count": 17,
   "metadata": {},
   "outputs": [
    {
     "name": "stdout",
     "output_type": "stream",
     "text": [
      "4 + 5 = 9\n"
     ]
    }
   ],
   "source": [
    "cal(num1=4,num2=5,operator='+')"
   ]
  },
  {
   "cell_type": "code",
   "execution_count": 18,
   "metadata": {},
   "outputs": [
    {
     "name": "stdout",
     "output_type": "stream",
     "text": [
      "4 + 5 = 9\n"
     ]
    }
   ],
   "source": [
    "cal(operator='+',num1=4,num2=5)"
   ]
  },
  {
   "cell_type": "markdown",
   "metadata": {},
   "source": [
    "# DEFAULT PARAMETER"
   ]
  },
  {
   "cell_type": "code",
   "execution_count": 29,
   "metadata": {},
   "outputs": [
    {
     "name": "stdout",
     "output_type": "stream",
     "text": [
      "My name is Hamza.\n",
      "My age is 21.\n",
      "My gender is male.\n"
     ]
    }
   ],
   "source": [
    "def info(name,age=21,gender='male'):\n",
    "    print(f'My name is {name}.')\n",
    "    print(f'My age is {age}.')\n",
    "    print(f'My gender is {gender}.')\n",
    "info('Hamza')"
   ]
  },
  {
   "cell_type": "code",
   "execution_count": 31,
   "metadata": {},
   "outputs": [
    {
     "name": "stdout",
     "output_type": "stream",
     "text": [
      "Mirza Hamza umer\n"
     ]
    }
   ],
   "source": [
    "def name(f_name, l_name , m_name = ' '):\n",
    "    if m_name:\n",
    "        full=f_name + ' ' + m_name + ' ' + l_name\n",
    "    else:\n",
    "        full=f_name + ' ' + l_name\n",
    "    return full\n",
    "a=name('Mirza', 'umer', 'Hamza')\n",
    "print(a)"
   ]
  },
  {
   "cell_type": "code",
   "execution_count": 32,
   "metadata": {},
   "outputs": [
    {
     "name": "stdout",
     "output_type": "stream",
     "text": [
      "Mirza   Umer\n"
     ]
    }
   ],
   "source": [
    "b=name('Mirza','Umer')\n",
    "print(b)"
   ]
  },
  {
   "cell_type": "code",
   "execution_count": 37,
   "metadata": {},
   "outputs": [
    {
     "name": "stdout",
     "output_type": "stream",
     "text": [
      "hello Hamza\n",
      "hello Mutayyab\n",
      "hello Nauman\n"
     ]
    }
   ],
   "source": [
    "def friend(names):\n",
    "    for name in names:\n",
    "        greet = \"hello\"+ ' '+ name\n",
    "        print(greet)\n",
    "\n",
    "user=['Hamza','Mutayyab','Nauman']      \n",
    "friend(user)        "
   ]
  },
  {
   "cell_type": "code",
   "execution_count": 41,
   "metadata": {},
   "outputs": [
    {
     "name": "stdout",
     "output_type": "stream",
     "text": [
      "First Hamza\n",
      "Last name Umer\n",
      "Age 21\n"
     ]
    }
   ],
   "source": [
    "def human(f_name, l_name ,age ):\n",
    "    build_human={'First':f_name,'Last name':l_name , 'Age':age}\n",
    "    for key , value in build_human.items():\n",
    "        print(key , value)\n",
    "        \n",
    "human('Hamza','Umer',21)"
   ]
  },
  {
   "cell_type": "code",
   "execution_count": 43,
   "metadata": {},
   "outputs": [
    {
     "name": "stdout",
     "output_type": "stream",
     "text": [
      "First Hamza\n",
      "('red', 33)\n",
      "Last name Umer\n",
      "('red', 33)\n",
      "Age 21\n",
      "('red', 33)\n"
     ]
    }
   ],
   "source": [
    "def human(f_name, l_name ,age,*others ):\n",
    "    build_human={'First':f_name,'Last name':l_name , 'Age':age}\n",
    "    for key , value in build_human.items():\n",
    "        print(key , value)\n",
    "        print(others)\n",
    "        \n",
    "human('Hamza','Umer',21,'red',33)"
   ]
  },
  {
   "cell_type": "code",
   "execution_count": 48,
   "metadata": {},
   "outputs": [
    {
     "ename": "SyntaxError",
     "evalue": "invalid syntax (<ipython-input-48-1cb770e81338>, line 7)",
     "output_type": "error",
     "traceback": [
      "\u001b[1;36m  File \u001b[1;32m\"<ipython-input-48-1cb770e81338>\"\u001b[1;36m, line \u001b[1;32m7\u001b[0m\n\u001b[1;33m    human('Hamza','Umer',21, 'gender':Male)\u001b[0m\n\u001b[1;37m                                     ^\u001b[0m\n\u001b[1;31mSyntaxError\u001b[0m\u001b[1;31m:\u001b[0m invalid syntax\n"
     ]
    }
   ],
   "source": [
    "def human(f_name, l_name ,age,**toopings ):\n",
    "    build_human={'First':f_name,'Last name':l_name , 'Age':age}\n",
    "    for key , value in build_human.items():\n",
    "        print(key , value)\n",
    "        print(toopings)\n",
    "        \n",
    "human('Hamza','Umer',21, 'gender':Male)"
   ]
  },
  {
   "cell_type": "code",
   "execution_count": 5,
   "metadata": {},
   "outputs": [
    {
     "ename": "NameError",
     "evalue": "name 'b' is not defined",
     "output_type": "error",
     "traceback": [
      "\u001b[1;31m---------------------------------------------------------------------------\u001b[0m",
      "\u001b[1;31mNameError\u001b[0m                                 Traceback (most recent call last)",
      "\u001b[1;32m<ipython-input-5-5c481b70f1fa>\u001b[0m in \u001b[0;36m<module>\u001b[1;34m\u001b[0m\n\u001b[0;32m      1\u001b[0m \u001b[1;32mdef\u001b[0m \u001b[0mm\u001b[0m\u001b[1;33m(\u001b[0m\u001b[1;33m)\u001b[0m\u001b[1;33m:\u001b[0m\u001b[1;33m\u001b[0m\u001b[1;33m\u001b[0m\u001b[0m\n\u001b[0;32m      2\u001b[0m     \u001b[1;32mreturn\u001b[0m \u001b[0mb\u001b[0m\u001b[1;33m\u001b[0m\u001b[1;33m\u001b[0m\u001b[0m\n\u001b[1;32m----> 3\u001b[1;33m \u001b[0mprint\u001b[0m\u001b[1;33m(\u001b[0m\u001b[0mm\u001b[0m\u001b[1;33m(\u001b[0m\u001b[1;33m)\u001b[0m\u001b[1;33m)\u001b[0m\u001b[1;33m\u001b[0m\u001b[1;33m\u001b[0m\u001b[0m\n\u001b[0m",
      "\u001b[1;32m<ipython-input-5-5c481b70f1fa>\u001b[0m in \u001b[0;36mm\u001b[1;34m()\u001b[0m\n\u001b[0;32m      1\u001b[0m \u001b[1;32mdef\u001b[0m \u001b[0mm\u001b[0m\u001b[1;33m(\u001b[0m\u001b[1;33m)\u001b[0m\u001b[1;33m:\u001b[0m\u001b[1;33m\u001b[0m\u001b[1;33m\u001b[0m\u001b[0m\n\u001b[1;32m----> 2\u001b[1;33m     \u001b[1;32mreturn\u001b[0m \u001b[0mb\u001b[0m\u001b[1;33m\u001b[0m\u001b[1;33m\u001b[0m\u001b[0m\n\u001b[0m\u001b[0;32m      3\u001b[0m \u001b[0mprint\u001b[0m\u001b[1;33m(\u001b[0m\u001b[0mm\u001b[0m\u001b[1;33m(\u001b[0m\u001b[1;33m)\u001b[0m\u001b[1;33m)\u001b[0m\u001b[1;33m\u001b[0m\u001b[1;33m\u001b[0m\u001b[0m\n",
      "\u001b[1;31mNameError\u001b[0m: name 'b' is not defined"
     ]
    }
   ],
   "source": [
    "def m():\n",
    "    return b\n",
    "print(m())"
   ]
  },
  {
   "cell_type": "code",
   "execution_count": 3,
   "metadata": {},
   "outputs": [
    {
     "name": "stdout",
     "output_type": "stream",
     "text": [
      "5\n"
     ]
    }
   ],
   "source": [
    "def m():\n",
    "    return 5\n",
    "m()\n",
    "print(m())"
   ]
  },
  {
   "cell_type": "code",
   "execution_count": 15,
   "metadata": {},
   "outputs": [
    {
     "name": "stdout",
     "output_type": "stream",
     "text": [
      "hamid\n"
     ]
    }
   ],
   "source": [
    "def name():\n",
    "    first_name=\"George\"\n",
    "    return first_name\n",
    "first_name=\"hamid\"\n",
    "print(first_name)"
   ]
  },
  {
   "cell_type": "code",
   "execution_count": 8,
   "metadata": {},
   "outputs": [
    {
     "data": {
      "text/plain": [
       "'Hamid'"
      ]
     },
     "execution_count": 8,
     "metadata": {},
     "output_type": "execute_result"
    }
   ],
   "source": [
    "first_name"
   ]
  },
  {
   "cell_type": "code",
   "execution_count": null,
   "metadata": {},
   "outputs": [],
   "source": []
  }
 ],
 "metadata": {
  "kernelspec": {
   "display_name": "Python 3",
   "language": "python",
   "name": "python3"
  },
  "language_info": {
   "codemirror_mode": {
    "name": "ipython",
    "version": 3
   },
   "file_extension": ".py",
   "mimetype": "text/x-python",
   "name": "python",
   "nbconvert_exporter": "python",
   "pygments_lexer": "ipython3",
   "version": "3.7.3"
  }
 },
 "nbformat": 4,
 "nbformat_minor": 2
}
