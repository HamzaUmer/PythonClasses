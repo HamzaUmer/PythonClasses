{
 "cells": [
  {
   "cell_type": "markdown",
   "metadata": {},
   "source": [
    "# Functions:Local and Global Variables"
   ]
  },
  {
   "cell_type": "code",
   "execution_count": 1,
   "metadata": {},
   "outputs": [],
   "source": [
    "#local variable :Variable define inside function & can not access by outside function"
   ]
  },
  {
   "cell_type": "code",
   "execution_count": null,
   "metadata": {},
   "outputs": [],
   "source": [
    "#global variable : Global variable define inside function & can access by outside the function"
   ]
  },
  {
   "cell_type": "code",
   "execution_count": 4,
   "metadata": {},
   "outputs": [],
   "source": [
    "def hello():\n",
    "    a=100 #local variable\n",
    "    print(a)"
   ]
  },
  {
   "cell_type": "code",
   "execution_count": 6,
   "metadata": {},
   "outputs": [
    {
     "ename": "NameError",
     "evalue": "name 'a' is not defined",
     "output_type": "error",
     "traceback": [
      "\u001b[1;31m---------------------------------------------------------------------------\u001b[0m",
      "\u001b[1;31mNameError\u001b[0m                                 Traceback (most recent call last)",
      "\u001b[1;32m<ipython-input-6-bca0e2660b9f>\u001b[0m in \u001b[0;36m<module>\u001b[1;34m\u001b[0m\n\u001b[1;32m----> 1\u001b[1;33m \u001b[0mprint\u001b[0m\u001b[1;33m(\u001b[0m\u001b[0ma\u001b[0m\u001b[1;33m)\u001b[0m\u001b[1;33m\u001b[0m\u001b[1;33m\u001b[0m\u001b[0m\n\u001b[0m",
      "\u001b[1;31mNameError\u001b[0m: name 'a' is not defined"
     ]
    }
   ],
   "source": [
    "print(a)"
   ]
  },
  {
   "cell_type": "code",
   "execution_count": 7,
   "metadata": {},
   "outputs": [],
   "source": [
    "fruit='apple'\n",
    "def hel():\n",
    "    fruit='apple'\n",
    "    print(fruit)"
   ]
  },
  {
   "cell_type": "code",
   "execution_count": 8,
   "metadata": {},
   "outputs": [
    {
     "name": "stdout",
     "output_type": "stream",
     "text": [
      "apple\n"
     ]
    }
   ],
   "source": [
    "print(fruit)"
   ]
  },
  {
   "cell_type": "code",
   "execution_count": 9,
   "metadata": {},
   "outputs": [
    {
     "data": {
      "text/plain": [
       "'apple'"
      ]
     },
     "execution_count": 9,
     "metadata": {},
     "output_type": "execute_result"
    }
   ],
   "source": [
    "fruit"
   ]
  },
  {
   "cell_type": "code",
   "execution_count": 10,
   "metadata": {},
   "outputs": [
    {
     "name": "stdout",
     "output_type": "stream",
     "text": [
      "apple\n"
     ]
    }
   ],
   "source": [
    "hel()"
   ]
  },
  {
   "cell_type": "code",
   "execution_count": 12,
   "metadata": {},
   "outputs": [],
   "source": [
    "def hel():\n",
    "    fruit='apple'\n",
    "    global a\n",
    "    a=100\n",
    "    print(a)\n",
    "    print(fruit)"
   ]
  },
  {
   "cell_type": "code",
   "execution_count": 13,
   "metadata": {},
   "outputs": [
    {
     "ename": "NameError",
     "evalue": "name 'a' is not defined",
     "output_type": "error",
     "traceback": [
      "\u001b[1;31m---------------------------------------------------------------------------\u001b[0m",
      "\u001b[1;31mNameError\u001b[0m                                 Traceback (most recent call last)",
      "\u001b[1;32m<ipython-input-13-3f786850e387>\u001b[0m in \u001b[0;36m<module>\u001b[1;34m\u001b[0m\n\u001b[1;32m----> 1\u001b[1;33m \u001b[0ma\u001b[0m\u001b[1;33m\u001b[0m\u001b[1;33m\u001b[0m\u001b[0m\n\u001b[0m",
      "\u001b[1;31mNameError\u001b[0m: name 'a' is not defined"
     ]
    }
   ],
   "source": [
    "a"
   ]
  },
  {
   "cell_type": "code",
   "execution_count": 16,
   "metadata": {},
   "outputs": [
    {
     "name": "stdout",
     "output_type": "stream",
     "text": [
      "100\n",
      "apple\n"
     ]
    }
   ],
   "source": [
    "hel()"
   ]
  },
  {
   "cell_type": "code",
   "execution_count": 17,
   "metadata": {},
   "outputs": [
    {
     "data": {
      "text/plain": [
       "100"
      ]
     },
     "execution_count": 17,
     "metadata": {},
     "output_type": "execute_result"
    }
   ],
   "source": [
    "a"
   ]
  },
  {
   "cell_type": "code",
   "execution_count": 18,
   "metadata": {},
   "outputs": [],
   "source": [
    "def add(a,c):\n",
    "    return a+c\n",
    "sum = add(4,5)"
   ]
  },
  {
   "cell_type": "code",
   "execution_count": 19,
   "metadata": {},
   "outputs": [
    {
     "data": {
      "text/plain": [
       "9"
      ]
     },
     "execution_count": 19,
     "metadata": {},
     "output_type": "execute_result"
    }
   ],
   "source": [
    "sum"
   ]
  },
  {
   "cell_type": "code",
   "execution_count": 27,
   "metadata": {},
   "outputs": [
    {
     "ename": "NameError",
     "evalue": "name 'c' is not defined",
     "output_type": "error",
     "traceback": [
      "\u001b[1;31m---------------------------------------------------------------------------\u001b[0m",
      "\u001b[1;31mNameError\u001b[0m                                 Traceback (most recent call last)",
      "\u001b[1;32m<ipython-input-27-027a12dce054>\u001b[0m in \u001b[0;36m<module>\u001b[1;34m\u001b[0m\n\u001b[0;32m      2\u001b[0m \u001b[1;33m\u001b[0m\u001b[0m\n\u001b[0;32m      3\u001b[0m     \u001b[0mprint\u001b[0m\u001b[1;33m(\u001b[0m\u001b[0ma\u001b[0m\u001b[1;33m-\u001b[0m\u001b[0mc\u001b[0m\u001b[1;33m)\u001b[0m\u001b[1;33m\u001b[0m\u001b[1;33m\u001b[0m\u001b[0m\n\u001b[1;32m----> 4\u001b[1;33m \u001b[0msum\u001b[0m\u001b[1;33m=\u001b[0m\u001b[0msub\u001b[0m\u001b[1;33m(\u001b[0m\u001b[0ma\u001b[0m\u001b[1;33m,\u001b[0m\u001b[0mc\u001b[0m\u001b[1;33m)\u001b[0m\u001b[1;33m\u001b[0m\u001b[1;33m\u001b[0m\u001b[0m\n\u001b[0m",
      "\u001b[1;31mNameError\u001b[0m: name 'c' is not defined"
     ]
    }
   ],
   "source": [
    "def sub(a,c):\n",
    "    \n",
    "    print(a-c)\n",
    "sum=sub(a,c)"
   ]
  },
  {
   "cell_type": "code",
   "execution_count": 28,
   "metadata": {},
   "outputs": [
    {
     "data": {
      "text/plain": [
       "9"
      ]
     },
     "execution_count": 28,
     "metadata": {},
     "output_type": "execute_result"
    }
   ],
   "source": [
    "sum"
   ]
  },
  {
   "cell_type": "markdown",
   "metadata": {},
   "source": [
    "# While Loops"
   ]
  },
  {
   "cell_type": "code",
   "execution_count": 29,
   "metadata": {},
   "outputs": [
    {
     "name": "stdout",
     "output_type": "stream",
     "text": [
      "1\n",
      "2\n",
      "3\n",
      "4\n"
     ]
    }
   ],
   "source": [
    "a=1\n",
    "while a<5:\n",
    "    print(a)\n",
    "    a+=1"
   ]
  },
  {
   "cell_type": "code",
   "execution_count": 30,
   "metadata": {},
   "outputs": [
    {
     "name": "stdout",
     "output_type": "stream",
     "text": [
      "Tells your namehamza\n",
      "Your Name is hamza\n",
      "Tells your nameusman\n",
      "Your Name is usman\n",
      "Tells your nameaazib\n",
      "Your Name is aazib\n",
      "Tells your namemutayyab\n",
      "Your Name is mutayyab\n"
     ]
    }
   ],
   "source": [
    "for a in range(4):\n",
    "    name=input(\"Tells your name\")\n",
    "    print(f'Your Name is {name}')"
   ]
  },
  {
   "cell_type": "code",
   "execution_count": 1,
   "metadata": {},
   "outputs": [
    {
     "name": "stdout",
     "output_type": "stream",
     "text": [
      "Tells your flagpak\n",
      "Tells your flagind\n",
      "Tells your flagquit\n",
      "Your flag is quit\n"
     ]
    }
   ],
   "source": [
    "flag=True\n",
    "while flag:\n",
    "    name=input(\"Tells your flag\")\n",
    "    \n",
    "    if name == \"quit\":\n",
    "        flag=False\n",
    "        print(f'Your flag is {name}')"
   ]
  },
  {
   "cell_type": "code",
   "execution_count": 7,
   "metadata": {},
   "outputs": [
    {
     "name": "stdout",
     "output_type": "stream",
     "text": [
      "Who's there ? Cat\n",
      "Identify\n",
      "Who's there ? Dog\n",
      "Identify\n",
      "not found Identify\n"
     ]
    }
   ],
   "source": [
    "Animal=True\n",
    "while Animal:\n",
    "    name=input(\"Who's there ? \")\n",
    "    print(\"Identify\")\n",
    "    if name != \"Cat\":\n",
    "        Animal=False\n",
    "        print(\"not found Identify\")"
   ]
  },
  {
   "cell_type": "markdown",
   "metadata": {},
   "source": [
    "# Object Oriented Programming"
   ]
  },
  {
   "cell_type": "markdown",
   "metadata": {},
   "source": [
    "# Classsses"
   ]
  },
  {
   "cell_type": "code",
   "execution_count": 22,
   "metadata": {},
   "outputs": [],
   "source": [
    "#__Doubleunderscope=Dunder\n",
    "class Patient():\n",
    "    def __init__(self,name,age,gender,disease):\n",
    "       ######ATTRIBUTES######\n",
    "        self.name = name\n",
    "        self.age = age\n",
    "        self.gender = gender\n",
    "        self.disease = disease\n",
    "    ########BEHAVIOURS#########\n",
    "    def take_medicine(self):\n",
    "        print(f'{self.name} is taking medicine')\n",
    "        \n",
    "    def take_rest(self):\n",
    "        print(f'{self.name} is taking rest')\n",
    "        \n",
    "    def depositoryMoney(self):\n",
    "        print(f'{self.name} is taking depositing fee')\n",
    "        "
   ]
  },
  {
   "cell_type": "code",
   "execution_count": 23,
   "metadata": {},
   "outputs": [],
   "source": [
    "p123 = Patient(\"Samba\",99,\"Male\",\"flu\")"
   ]
  },
  {
   "cell_type": "code",
   "execution_count": 24,
   "metadata": {},
   "outputs": [],
   "source": [
    "p124 = Patient(\"Thakur\",97,\"Male\",\"Fever\")"
   ]
  },
  {
   "cell_type": "code",
   "execution_count": 25,
   "metadata": {},
   "outputs": [
    {
     "data": {
      "text/plain": [
       "'Samba'"
      ]
     },
     "execution_count": 25,
     "metadata": {},
     "output_type": "execute_result"
    }
   ],
   "source": [
    "p123.name"
   ]
  },
  {
   "cell_type": "code",
   "execution_count": 26,
   "metadata": {},
   "outputs": [
    {
     "data": {
      "text/plain": [
       "'Thakur'"
      ]
     },
     "execution_count": 26,
     "metadata": {},
     "output_type": "execute_result"
    }
   ],
   "source": [
    "p124.name"
   ]
  },
  {
   "cell_type": "code",
   "execution_count": 27,
   "metadata": {},
   "outputs": [
    {
     "name": "stdout",
     "output_type": "stream",
     "text": [
      "Samba is taking rest\n"
     ]
    }
   ],
   "source": [
    "p123.take_rest()"
   ]
  },
  {
   "cell_type": "code",
   "execution_count": 32,
   "metadata": {},
   "outputs": [],
   "source": [
    "class students():\n",
    "    def __init__(self,name,age,Section,Department):\n",
    "        self.name= name\n",
    "        self.age= age\n",
    "        self.section= Section\n",
    "        self.Department = Department\n",
    "    def sports(self):\n",
    "        print(f'{self.name} part of sports curricullum')\n",
    "    def taking_class(self):\n",
    "        print(f'{self.name} is taking class')\n",
    "    "
   ]
  },
  {
   "cell_type": "code",
   "execution_count": 33,
   "metadata": {},
   "outputs": [],
   "source": [
    "RN123=students(\"Hamza\",21,'B','Electronics')"
   ]
  },
  {
   "cell_type": "code",
   "execution_count": 34,
   "metadata": {},
   "outputs": [],
   "source": [
    "RN124=students(\"Mutayyab\",21,'B','Electronics')"
   ]
  },
  {
   "cell_type": "code",
   "execution_count": 35,
   "metadata": {},
   "outputs": [
    {
     "name": "stdout",
     "output_type": "stream",
     "text": [
      "Hamza part of sports curricullum\n"
     ]
    }
   ],
   "source": [
    "RN123.sports()"
   ]
  },
  {
   "cell_type": "code",
   "execution_count": 36,
   "metadata": {},
   "outputs": [
    {
     "name": "stdout",
     "output_type": "stream",
     "text": [
      "Mutayyab is taking class\n"
     ]
    }
   ],
   "source": [
    "RN124.taking_class()"
   ]
  },
  {
   "cell_type": "markdown",
   "metadata": {},
   "source": [
    "# Another Example"
   ]
  },
  {
   "cell_type": "code",
   "execution_count": 38,
   "metadata": {},
   "outputs": [],
   "source": [
    "class car():\n",
    "    def __init__(self,make,model,year):\n",
    "        self.make= make\n",
    "        self.model=model\n",
    "        self.year =year\n",
    "    def get_discriptive_name(self):\n",
    "        \n",
    "        long_name =str(self.year) +' '+self.make +' ' +self.model\n",
    "        return long_name.title()\n",
    "    \n",
    "    "
   ]
  },
  {
   "cell_type": "code",
   "execution_count": 39,
   "metadata": {},
   "outputs": [],
   "source": [
    "my_new_car= car('Audi','a4',2016)"
   ]
  },
  {
   "cell_type": "code",
   "execution_count": 40,
   "metadata": {},
   "outputs": [
    {
     "data": {
      "text/plain": [
       "'a4'"
      ]
     },
     "execution_count": 40,
     "metadata": {},
     "output_type": "execute_result"
    }
   ],
   "source": [
    "my_new_car.model"
   ]
  },
  {
   "cell_type": "markdown",
   "metadata": {},
   "source": [
    "# Setting a Default Value for an Attribute"
   ]
  },
  {
   "cell_type": "code",
   "execution_count": 126,
   "metadata": {},
   "outputs": [],
   "source": [
    "class car():\n",
    "    def __init__(self,make,model,year):\n",
    "        self.make= make\n",
    "        self.model=model\n",
    "        self.year =year\n",
    "        self.odometer_reading=0\n",
    "    def get_discriptive_name(self):\n",
    "        \n",
    "        long_name =str(self.year) +' '+self.make +' ' +self.model\n",
    "        return long_name.title()\n",
    "    def read_odometer(self):\n",
    "        print(f'The car has travelled {self.odometer_reading} miles')\n",
    "    def update_odometer(self, mileage):\n",
    "        self.odometer_reading = mileage\n",
    "    def increase_odometer(self,mileage):\n",
    "        if mileage>0:\n",
    "            self.odometer_reading+=mileage\n",
    "        else:\n",
    "            print(\"You can not roll back odometer\")\n",
    "            \n",
    "    def getFuelTankSize(self):\n",
    "        print(\"100 litre\")"
   ]
  },
  {
   "cell_type": "code",
   "execution_count": 127,
   "metadata": {},
   "outputs": [],
   "source": [
    "abcCar=car('abc','good',2019)"
   ]
  },
  {
   "cell_type": "code",
   "execution_count": 128,
   "metadata": {},
   "outputs": [],
   "source": [
    "xyzCar =car('xyz','bad',2018)"
   ]
  },
  {
   "cell_type": "code",
   "execution_count": 129,
   "metadata": {},
   "outputs": [
    {
     "name": "stdout",
     "output_type": "stream",
     "text": [
      "The car has travelled 0 miles\n"
     ]
    }
   ],
   "source": [
    "abcCar.read_odometer()"
   ]
  },
  {
   "cell_type": "markdown",
   "metadata": {},
   "source": [
    "# Modifying Attribute Values"
   ]
  },
  {
   "cell_type": "markdown",
   "metadata": {},
   "source": [
    "1) Direct access and modify 2) Modify it using a function"
   ]
  },
  {
   "cell_type": "code",
   "execution_count": 130,
   "metadata": {},
   "outputs": [],
   "source": [
    "abcCar.odometer_reading = 100"
   ]
  },
  {
   "cell_type": "code",
   "execution_count": 131,
   "metadata": {},
   "outputs": [
    {
     "name": "stdout",
     "output_type": "stream",
     "text": [
      "The car has travelled 100 miles\n"
     ]
    }
   ],
   "source": [
    "abcCar.read_odometer()"
   ]
  },
  {
   "cell_type": "code",
   "execution_count": 132,
   "metadata": {},
   "outputs": [],
   "source": [
    "abcCar.update_odometer(1234.6)"
   ]
  },
  {
   "cell_type": "code",
   "execution_count": 133,
   "metadata": {},
   "outputs": [
    {
     "name": "stdout",
     "output_type": "stream",
     "text": [
      "The car has travelled 1234.6 miles\n"
     ]
    }
   ],
   "source": [
    "abcCar.read_odometer()"
   ]
  },
  {
   "cell_type": "code",
   "execution_count": 134,
   "metadata": {},
   "outputs": [],
   "source": [
    "abcCar.increase_odometer(150)"
   ]
  },
  {
   "cell_type": "code",
   "execution_count": 135,
   "metadata": {},
   "outputs": [
    {
     "name": "stdout",
     "output_type": "stream",
     "text": [
      "The car has travelled 1384.6 miles\n"
     ]
    }
   ],
   "source": [
    "abcCar.read_odometer()"
   ]
  },
  {
   "cell_type": "code",
   "execution_count": 136,
   "metadata": {},
   "outputs": [
    {
     "name": "stdout",
     "output_type": "stream",
     "text": [
      "You can not roll back odometer\n"
     ]
    }
   ],
   "source": [
    "abcCar.increase_odometer(-150)"
   ]
  },
  {
   "cell_type": "markdown",
   "metadata": {},
   "source": [
    "# 6/7/2019"
   ]
  },
  {
   "cell_type": "markdown",
   "metadata": {},
   "source": [
    "# Sub Class/ Children Class"
   ]
  },
  {
   "cell_type": "code",
   "execution_count": 151,
   "metadata": {},
   "outputs": [],
   "source": [
    "class ElectricCar(Car):\n",
    "    def __init__(self,make,model,year):\n",
    "        super(). __init__(make,model,year)\n",
    "        self.batterySize =70\n",
    "        \n",
    "    def getbattery(self):\n",
    "        print(f\"The Battery size of the car is {self.batterySize}\")\n",
    "    def setBatterySize(self,battery):\n",
    "        self.batterySize = battery\n",
    "    def getFuelTankSize(self):\n",
    "        print(\"There is no Tank\")"
   ]
  },
  {
   "cell_type": "code",
   "execution_count": 152,
   "metadata": {},
   "outputs": [],
   "source": [
    "ecar=ElectricCar(\"Mercedes\",\"Benz\",2019)"
   ]
  },
  {
   "cell_type": "code",
   "execution_count": 153,
   "metadata": {},
   "outputs": [
    {
     "name": "stdout",
     "output_type": "stream",
     "text": [
      "The car has travelled 0 miles\n"
     ]
    }
   ],
   "source": [
    "ecar.read_odometer()"
   ]
  },
  {
   "cell_type": "code",
   "execution_count": 154,
   "metadata": {},
   "outputs": [],
   "source": [
    "ecar.increase_odometer(13)"
   ]
  },
  {
   "cell_type": "code",
   "execution_count": 155,
   "metadata": {},
   "outputs": [
    {
     "name": "stdout",
     "output_type": "stream",
     "text": [
      "The car has travelled 13 miles\n"
     ]
    }
   ],
   "source": [
    "ecar.read_odometer()"
   ]
  },
  {
   "cell_type": "code",
   "execution_count": 156,
   "metadata": {},
   "outputs": [
    {
     "data": {
      "text/plain": [
       "'Mercedes'"
      ]
     },
     "execution_count": 156,
     "metadata": {},
     "output_type": "execute_result"
    }
   ],
   "source": [
    "ecar.make"
   ]
  },
  {
   "cell_type": "code",
   "execution_count": 157,
   "metadata": {},
   "outputs": [
    {
     "data": {
      "text/plain": [
       "'Benz'"
      ]
     },
     "execution_count": 157,
     "metadata": {},
     "output_type": "execute_result"
    }
   ],
   "source": [
    "ecar.model"
   ]
  },
  {
   "cell_type": "code",
   "execution_count": 158,
   "metadata": {},
   "outputs": [
    {
     "data": {
      "text/plain": [
       "2019"
      ]
     },
     "execution_count": 158,
     "metadata": {},
     "output_type": "execute_result"
    }
   ],
   "source": [
    "ecar.year"
   ]
  },
  {
   "cell_type": "code",
   "execution_count": 159,
   "metadata": {},
   "outputs": [
    {
     "data": {
      "text/plain": [
       "70"
      ]
     },
     "execution_count": 159,
     "metadata": {},
     "output_type": "execute_result"
    }
   ],
   "source": [
    "ecar.batterySize"
   ]
  },
  {
   "cell_type": "code",
   "execution_count": 160,
   "metadata": {},
   "outputs": [
    {
     "name": "stdout",
     "output_type": "stream",
     "text": [
      "The Battery size of the car is 70\n"
     ]
    }
   ],
   "source": [
    "ecar.getbattery()"
   ]
  },
  {
   "cell_type": "code",
   "execution_count": 161,
   "metadata": {},
   "outputs": [],
   "source": [
    "ecar.setBatterySize(90)"
   ]
  },
  {
   "cell_type": "code",
   "execution_count": 162,
   "metadata": {},
   "outputs": [
    {
     "name": "stdout",
     "output_type": "stream",
     "text": [
      "The Battery size of the car is 90\n"
     ]
    }
   ],
   "source": [
    "ecar.getbattery()"
   ]
  },
  {
   "cell_type": "code",
   "execution_count": 163,
   "metadata": {},
   "outputs": [
    {
     "name": "stdout",
     "output_type": "stream",
     "text": [
      "There is no Tank\n"
     ]
    }
   ],
   "source": [
    "ecar.getFuelTankSize()"
   ]
  },
  {
   "cell_type": "markdown",
   "metadata": {},
   "source": [
    "# Instance as a Attribute"
   ]
  },
  {
   "cell_type": "code",
   "execution_count": 188,
   "metadata": {},
   "outputs": [],
   "source": [
    "class battery():\n",
    "    def __init__(self,manufacturer,watt,date):\n",
    "        self.manufacturer =manufacturer\n",
    "        self.watt = watt\n",
    "        self.date =date\n",
    "        self.batterysize= 100\n",
    "    def getBatterySize(self):\n",
    "        print(f\"The Battery size of the car is {self.batterySize}\")\n",
    "        \n",
    "    def setBatterySize(self,battery):\n",
    "        self.batterySize = battery"
   ]
  },
  {
   "cell_type": "code",
   "execution_count": 189,
   "metadata": {},
   "outputs": [],
   "source": [
    "class ElectricCar(Car):\n",
    "    def __init__(self,make,model,year):\n",
    "        super(). __init__(make,model,year)\n",
    "        self.battery =battery(\"Osaka\",200,2019)\n",
    "    def getFuelTankSize(self):\n",
    "        print(\"There is no Tank\")"
   ]
  },
  {
   "cell_type": "code",
   "execution_count": 190,
   "metadata": {},
   "outputs": [],
   "source": [
    "ecar=ElectricCar(\"Mercedes\",\"Benz\",2019)"
   ]
  },
  {
   "cell_type": "code",
   "execution_count": 191,
   "metadata": {},
   "outputs": [
    {
     "data": {
      "text/plain": [
       "'Osaka'"
      ]
     },
     "execution_count": 191,
     "metadata": {},
     "output_type": "execute_result"
    }
   ],
   "source": [
    "ecar.battery.manufacturer"
   ]
  },
  {
   "cell_type": "code",
   "execution_count": 192,
   "metadata": {},
   "outputs": [
    {
     "data": {
      "text/plain": [
       "200"
      ]
     },
     "execution_count": 192,
     "metadata": {},
     "output_type": "execute_result"
    }
   ],
   "source": [
    "ecar.battery.watt"
   ]
  },
  {
   "cell_type": "code",
   "execution_count": 193,
   "metadata": {},
   "outputs": [
    {
     "data": {
      "text/plain": [
       "2019"
      ]
     },
     "execution_count": 193,
     "metadata": {},
     "output_type": "execute_result"
    }
   ],
   "source": [
    "ecar.battery.date"
   ]
  },
  {
   "cell_type": "code",
   "execution_count": 194,
   "metadata": {},
   "outputs": [],
   "source": [
    "class engine():\n",
    "    def __init__(self,cc,horsepower,piston):\n",
    "        self.cc=cc\n",
    "        self.horsepower=horsepower\n",
    "        self.piston=piston\n",
    "    def FuelConsumption(self):\n",
    "        print(\"24 km per liter\")"
   ]
  },
  {
   "cell_type": "code",
   "execution_count": 195,
   "metadata": {},
   "outputs": [],
   "source": [
    "class ElectricCar(Car):\n",
    "    def __init__(self,make,model,year):\n",
    "        super(). __init__(make,model,year)\n",
    "        self.engine =engine(1300,1400,8)\n",
    "    def getFuelTankSize(self):\n",
    "        print(\"There is no Tank\")"
   ]
  },
  {
   "cell_type": "code",
   "execution_count": 196,
   "metadata": {},
   "outputs": [],
   "source": [
    "ecar=ElectricCar(\"Audi\",\"A4\",2019)"
   ]
  },
  {
   "cell_type": "code",
   "execution_count": 199,
   "metadata": {},
   "outputs": [
    {
     "data": {
      "text/plain": [
       "1300"
      ]
     },
     "execution_count": 199,
     "metadata": {},
     "output_type": "execute_result"
    }
   ],
   "source": [
    "ecar.engine.cc"
   ]
  },
  {
   "cell_type": "markdown",
   "metadata": {},
   "source": [
    "# Example of Resturant(9-1)"
   ]
  },
  {
   "cell_type": "code",
   "execution_count": 208,
   "metadata": {},
   "outputs": [],
   "source": [
    "class resturant():\n",
    "    def __init__(self,resturantName,cuisineType):\n",
    "        self.resturantName=resturantName\n",
    "        self.cuisineType=cuisineType\n",
    "    def describe_resturant(self):\n",
    "        print(f\"The Name of resturant is {self.resturantName} \")\n",
    "        print(f\"The cuisine type is {self.cuisineType} \")\n",
    "    def openResturant(self):\n",
    "        print(f\"{self.resturantName} is now open today\")"
   ]
  },
  {
   "cell_type": "code",
   "execution_count": 209,
   "metadata": {},
   "outputs": [],
   "source": [
    "r1=resturant(\"Afridi Inn\",\"Desi Pakwan\")"
   ]
  },
  {
   "cell_type": "code",
   "execution_count": 210,
   "metadata": {},
   "outputs": [
    {
     "name": "stdout",
     "output_type": "stream",
     "text": [
      "Afridi Inn\n",
      "Desi Pakwan\n"
     ]
    }
   ],
   "source": [
    "print(r1.resturantName)\n",
    "print(r1.cuisineType)"
   ]
  },
  {
   "cell_type": "code",
   "execution_count": 211,
   "metadata": {},
   "outputs": [
    {
     "name": "stdout",
     "output_type": "stream",
     "text": [
      "The Name of resturant is Afridi Inn \n",
      "The cuisine type is Desi Pakwan \n",
      "Afridi Inn is now open today\n"
     ]
    }
   ],
   "source": [
    "r1.describe_resturant()\n",
    "r1.openResturant()"
   ]
  },
  {
   "cell_type": "markdown",
   "metadata": {},
   "source": [
    "# Example Resturant(9-2)"
   ]
  },
  {
   "cell_type": "code",
   "execution_count": 212,
   "metadata": {},
   "outputs": [],
   "source": [
    "r2=resturant(\"Kaybees\",\"Chinese\")\n",
    "r3=resturant(\"Kolachi\",\"BBQ\")\n",
    "r4=resturant(\"Shaheen Shinwari\",\"Desi Pakwan\")"
   ]
  },
  {
   "cell_type": "code",
   "execution_count": 214,
   "metadata": {},
   "outputs": [
    {
     "name": "stdout",
     "output_type": "stream",
     "text": [
      "The Name of resturant is Kaybees \n",
      "The cuisine type is Chinese \n"
     ]
    }
   ],
   "source": [
    "r2.describe_resturant()"
   ]
  },
  {
   "cell_type": "code",
   "execution_count": 215,
   "metadata": {},
   "outputs": [
    {
     "name": "stdout",
     "output_type": "stream",
     "text": [
      "The Name of resturant is Kolachi \n",
      "The cuisine type is BBQ \n"
     ]
    }
   ],
   "source": [
    "r3.describe_resturant()"
   ]
  },
  {
   "cell_type": "code",
   "execution_count": 216,
   "metadata": {},
   "outputs": [
    {
     "name": "stdout",
     "output_type": "stream",
     "text": [
      "The Name of resturant is Shaheen Shinwari \n",
      "The cuisine type is Desi Pakwan \n"
     ]
    }
   ],
   "source": [
    "r4.describe_resturant()"
   ]
  },
  {
   "cell_type": "markdown",
   "metadata": {},
   "source": [
    "# Exapmle Resturant(9-4)"
   ]
  },
  {
   "cell_type": "code",
   "execution_count": 237,
   "metadata": {},
   "outputs": [],
   "source": [
    "class resturant():\n",
    "    def __init__(self,resturantName,cuisineType):\n",
    "        self.resturantName=resturantName\n",
    "        self.cuisineType=cuisineType\n",
    "        self.numbersServed = 0\n",
    "    def describe_resturant(self):\n",
    "        print(f\"The Name of resturant is {self.resturantName} \")\n",
    "        print(f\"The cuisine type is {self.cuisineType} \")\n",
    "    def openResturant(self):\n",
    "        print(f\"{self.resturantName} is now open today\")\n",
    "    def setNumberServed(self,serve):\n",
    "        self.numbersServed = serve\n",
    "    def getNumberServed(self):\n",
    "        print(f'{self.numbersServed} customers are served')\n",
    "    def increment_number_served(self,serve):\n",
    "        self.numbersServed+=serve"
   ]
  },
  {
   "cell_type": "code",
   "execution_count": 238,
   "metadata": {},
   "outputs": [],
   "source": [
    "Resturant = resturant(\"Pizza Max\",\"Pizza\")"
   ]
  },
  {
   "cell_type": "code",
   "execution_count": 239,
   "metadata": {},
   "outputs": [
    {
     "data": {
      "text/plain": [
       "0"
      ]
     },
     "execution_count": 239,
     "metadata": {},
     "output_type": "execute_result"
    }
   ],
   "source": [
    "Resturant.numbersServed # direct hit and get value"
   ]
  },
  {
   "cell_type": "code",
   "execution_count": 240,
   "metadata": {},
   "outputs": [],
   "source": [
    "Resturant.numbersServed = 20 #direct hit and changed value"
   ]
  },
  {
   "cell_type": "code",
   "execution_count": 241,
   "metadata": {},
   "outputs": [
    {
     "data": {
      "text/plain": [
       "20"
      ]
     },
     "execution_count": 241,
     "metadata": {},
     "output_type": "execute_result"
    }
   ],
   "source": [
    "Resturant.numbersServed"
   ]
  },
  {
   "cell_type": "code",
   "execution_count": 242,
   "metadata": {},
   "outputs": [
    {
     "data": {
      "text/plain": [
       "40"
      ]
     },
     "execution_count": 242,
     "metadata": {},
     "output_type": "execute_result"
    }
   ],
   "source": [
    "Resturant.setNumberServed(40) #changed value via function setter\n",
    "Resturant.numbersServed"
   ]
  },
  {
   "cell_type": "code",
   "execution_count": 244,
   "metadata": {},
   "outputs": [
    {
     "data": {
      "text/plain": [
       "100"
      ]
     },
     "execution_count": 244,
     "metadata": {},
     "output_type": "execute_result"
    }
   ],
   "source": [
    "Resturant.increment_number_served(30)\n",
    "Resturant.numbersServed"
   ]
  },
  {
   "cell_type": "code",
   "execution_count": 245,
   "metadata": {},
   "outputs": [
    {
     "name": "stdout",
     "output_type": "stream",
     "text": [
      "100 customers are served\n"
     ]
    }
   ],
   "source": [
    "Resturant.getNumberServed()"
   ]
  },
  {
   "cell_type": "code",
   "execution_count": null,
   "metadata": {},
   "outputs": [],
   "source": []
  }
 ],
 "metadata": {
  "kernelspec": {
   "display_name": "Python 3",
   "language": "python",
   "name": "python3"
  },
  "language_info": {
   "codemirror_mode": {
    "name": "ipython",
    "version": 3
   },
   "file_extension": ".py",
   "mimetype": "text/x-python",
   "name": "python",
   "nbconvert_exporter": "python",
   "pygments_lexer": "ipython3",
   "version": "3.7.3"
  }
 },
 "nbformat": 4,
 "nbformat_minor": 2
}
