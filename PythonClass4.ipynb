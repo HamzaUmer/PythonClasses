{
 "cells": [
  {
   "cell_type": "markdown",
   "metadata": {},
   "source": [
    "# For loop"
   ]
  },
  {
   "cell_type": "code",
   "execution_count": 2,
   "metadata": {},
   "outputs": [],
   "source": [
    "Students =['hamza','mutayyab','nauman','ali']"
   ]
  },
  {
   "cell_type": "code",
   "execution_count": 4,
   "metadata": {},
   "outputs": [
    {
     "name": "stdout",
     "output_type": "stream",
     "text": [
      "hamza\n",
      "mutayyab\n",
      "nauman\n",
      "ali\n"
     ]
    }
   ],
   "source": [
    "for student in Students:\n",
    "    print(student)"
   ]
  },
  {
   "cell_type": "code",
   "execution_count": 5,
   "metadata": {},
   "outputs": [
    {
     "name": "stdout",
     "output_type": "stream",
     "text": [
      "hamza get in\n",
      "mutayyab get in\n",
      "nauman get in\n",
      "ali get out\n"
     ]
    }
   ],
   "source": [
    "for student in Students:\n",
    "    if student == 'ali':\n",
    "        print(f'{student} get out')\n",
    "    else:\n",
    "        print(f'{student} get in')        "
   ]
  },
  {
   "cell_type": "code",
   "execution_count": 7,
   "metadata": {},
   "outputs": [
    {
     "name": "stdout",
     "output_type": "stream",
     "text": [
      "L a l o k h a i t "
     ]
    }
   ],
   "source": [
    "for a in 'Lalokhait':\n",
    "    print(a , end = \" \")"
   ]
  },
  {
   "cell_type": "code",
   "execution_count": 9,
   "metadata": {},
   "outputs": [
    {
     "name": "stdout",
     "output_type": "stream",
     "text": [
      "0       1       2       3       4       5       6       7       8       9       "
     ]
    }
   ],
   "source": [
    "for num in range(10):\n",
    "    print(num , end=\"       \")"
   ]
  },
  {
   "cell_type": "code",
   "execution_count": 13,
   "metadata": {},
   "outputs": [
    {
     "name": "stdout",
     "output_type": "stream",
     "text": [
      "3  4  5  6  7  8  9  10  11  12  13  14  15  16  17  18  19  20  21  22  23  24  25  26  27  28  29  30  31  32  33  34  35  36  37  38  39  40  41  42  43  44  45  46  47  48  49  50  51  52  53  54  55  56  57  58  59  60  61  62  63  64  65  66  67  68  69  70  71  72  73  74  75  76  77  78  79  80  81  82  83  84  85  86  87  88  89  90  91  92  93  94  95  96  97  98  99  "
     ]
    }
   ],
   "source": [
    "for num in range(3,100):\n",
    "    print(num , end=\"  \")"
   ]
  },
  {
   "cell_type": "code",
   "execution_count": 9,
   "metadata": {},
   "outputs": [
    {
     "name": "stdout",
     "output_type": "stream",
     "text": [
      "ENter the number : 0\n",
      "0 X 1 = 0\n",
      "0 X 2 = 0\n",
      "0 X 3 = 0\n",
      "0 X 4 = 0\n",
      "0 X 5 = 0\n",
      "0 X 6 = 0\n",
      "0 X 7 = 0\n",
      "0 X 8 = 0\n",
      "0 X 9 = 0\n",
      "0 X 10 = 0\n"
     ]
    }
   ],
   "source": [
    "a=int(input(\"ENter the number : \"))#table\n",
    "for num in range (1 , 11):\n",
    "    print(f'{a} X {num} =',num * a)"
   ]
  },
  {
   "cell_type": "code",
   "execution_count": 11,
   "metadata": {},
   "outputs": [
    {
     "name": "stdout",
     "output_type": "stream",
     "text": [
      "0 2 4 6 8 10 12 14 16 18 20 22 24 26 28 30 32 34 36 38 40 42 44 46 48 50 52 54 56 58 60 62 64 66 68 70 72 74 76 "
     ]
    }
   ],
   "source": [
    "for num in range(0,77,2):#step value\n",
    "    print(num , end=\" \")"
   ]
  },
  {
   "cell_type": "code",
   "execution_count": 14,
   "metadata": {},
   "outputs": [
    {
     "name": "stdout",
     "output_type": "stream",
     "text": [
      "1 3 5 7 9 11 13 15 17 19 21 23 25 27 29 31 33 35 37 39 41 43 45 47 49 51 53 55 57 59 61 63 65 67 69 71 73 75 "
     ]
    }
   ],
   "source": [
    "for num in range(1,77,2):#step value\n",
    "    print(num , end=\" \")"
   ]
  },
  {
   "cell_type": "code",
   "execution_count": 15,
   "metadata": {},
   "outputs": [
    {
     "name": "stdout",
     "output_type": "stream",
     "text": [
      "ENter the number : 2\n",
      "2 X 1 = 2\n",
      "2 X 3 = 6\n",
      "2 X 5 = 10\n",
      "2 X 7 = 14\n",
      "2 X 9 = 18\n"
     ]
    }
   ],
   "source": [
    "a=int(input(\"ENter the number : \"))#table\n",
    "for num in range (1 , 11):\n",
    "    if num % 2 == 0:\n",
    "        continue\n",
    "    else:\n",
    "        print(f'{a} X {num} =',num * a)"
   ]
  },
  {
   "cell_type": "code",
   "execution_count": 16,
   "metadata": {},
   "outputs": [
    {
     "name": "stdout",
     "output_type": "stream",
     "text": [
      "ENter the number : 2\n",
      "2 X 1 = 2\n"
     ]
    }
   ],
   "source": [
    "a=int(input(\"ENter the number : \"))#table\n",
    "for num in range (1 , 11):\n",
    "    if num % 2 == 0:\n",
    "        break\n",
    "    else:\n",
    "        print(f'{a} X {num} =',num * a)"
   ]
  },
  {
   "cell_type": "code",
   "execution_count": 1,
   "metadata": {},
   "outputs": [],
   "source": [
    "best_friend=[]\n",
    "fake_friend=[]"
   ]
  },
  {
   "cell_type": "code",
   "execution_count": 2,
   "metadata": {},
   "outputs": [
    {
     "name": "stdout",
     "output_type": "stream",
     "text": [
      "Enter the name: hamza\n",
      "Enter the name: mutayyab\n",
      "Enter the name: nauman\n",
      "Enter the name: osama\n",
      "Enter the name: aazib\n",
      "Your Fake friend are :  ['aazib']\n",
      "Your Best friends are : ['hamza', 'mutayyab', 'nauman', 'osama']\n"
     ]
    }
   ],
   "source": [
    "for num in range(5):\n",
    "    name=input(\"Enter the name: \")\n",
    "\n",
    "    if name.startswith('a'):\n",
    "        fake_friend.append(name)\n",
    "        print(\"Your Fake friend are : \",fake_friend)\n",
    "    else:\n",
    "        best_friend.append(name)\n",
    "print(\"Your Best friends are :\",best_friend)"
   ]
  },
  {
   "cell_type": "code",
   "execution_count": 3,
   "metadata": {},
   "outputs": [
    {
     "data": {
      "text/plain": [
       "['aazib']"
      ]
     },
     "execution_count": 3,
     "metadata": {},
     "output_type": "execute_result"
    }
   ],
   "source": [
    "fake_friend"
   ]
  },
  {
   "cell_type": "code",
   "execution_count": 4,
   "metadata": {},
   "outputs": [
    {
     "data": {
      "text/plain": [
       "['hamza', 'mutayyab', 'nauman', 'osama']"
      ]
     },
     "execution_count": 4,
     "metadata": {},
     "output_type": "execute_result"
    }
   ],
   "source": [
    "best_friend"
   ]
  },
  {
   "cell_type": "markdown",
   "metadata": {},
   "source": [
    "# Nested for loop"
   ]
  },
  {
   "cell_type": "code",
   "execution_count": 11,
   "metadata": {},
   "outputs": [
    {
     "name": "stdout",
     "output_type": "stream",
     "text": [
      "1 h\n",
      "1 a\n",
      "1 m\n",
      "1 z\n",
      "1 a\n",
      "2 h\n",
      "2 a\n",
      "2 m\n",
      "2 z\n",
      "2 a\n"
     ]
    }
   ],
   "source": [
    "for a in [1,2]:\n",
    "    for b in 'hamza':\n",
    "        print(a,b)"
   ]
  },
  {
   "cell_type": "code",
   "execution_count": 36,
   "metadata": {},
   "outputs": [
    {
     "name": "stdout",
     "output_type": "stream",
     "text": [
      "Table of 1\n",
      "==============\n",
      "1 X 1 = 1\n",
      "1 X 2 = 2\n",
      "1 X 3 = 3\n",
      "1 X 4 = 4\n",
      "1 X 5 = 5\n",
      "1 X 6 = 6\n",
      "1 X 7 = 7\n",
      "1 X 8 = 8\n",
      "1 X 9 = 9\n",
      "1 X 10 = 10\n",
      "Table of 2\n",
      "==============\n",
      "2 X 1 = 2\n",
      "2 X 2 = 4\n",
      "2 X 3 = 6\n",
      "2 X 4 = 8\n",
      "2 X 5 = 10\n",
      "2 X 6 = 12\n",
      "2 X 7 = 14\n",
      "2 X 8 = 16\n",
      "2 X 9 = 18\n",
      "2 X 10 = 20\n",
      "Table of 3\n",
      "==============\n",
      "3 X 1 = 3\n",
      "3 X 2 = 6\n",
      "3 X 3 = 9\n",
      "3 X 4 = 12\n",
      "3 X 5 = 15\n",
      "3 X 6 = 18\n",
      "3 X 7 = 21\n",
      "3 X 8 = 24\n",
      "3 X 9 = 27\n",
      "3 X 10 = 30\n",
      "Table of 4\n",
      "==============\n",
      "4 X 1 = 4\n",
      "4 X 2 = 8\n",
      "4 X 3 = 12\n",
      "4 X 4 = 16\n",
      "4 X 5 = 20\n",
      "4 X 6 = 24\n",
      "4 X 7 = 28\n",
      "4 X 8 = 32\n",
      "4 X 9 = 36\n",
      "4 X 10 = 40\n"
     ]
    }
   ],
   "source": [
    "for tabnum in range(1,5):\n",
    "    print(f'Table of {tabnum}')\n",
    "    print('==============')\n",
    "    for num in range(1,11):\n",
    "        print(f'{tabnum} X {num} = {tabnum*num}')"
   ]
  },
  {
   "cell_type": "markdown",
   "metadata": {},
   "source": [
    "# List comprehension"
   ]
  },
  {
   "cell_type": "code",
   "execution_count": 37,
   "metadata": {},
   "outputs": [
    {
     "data": {
      "text/plain": [
       "[1, 4, 9, 16, 25, 36, 49, 64, 81]"
      ]
     },
     "execution_count": 37,
     "metadata": {},
     "output_type": "execute_result"
    }
   ],
   "source": [
    "a=[1,2,3,4,5,6,7,8,9]#squaring\n",
    "squares=[]\n",
    "for num in a:\n",
    "    squares.append(num**2)\n",
    "squares"
   ]
  },
  {
   "cell_type": "code",
   "execution_count": 39,
   "metadata": {},
   "outputs": [
    {
     "data": {
      "text/plain": [
       "[1, 8, 27, 64, 125, 216, 343, 512, 729]"
      ]
     },
     "execution_count": 39,
     "metadata": {},
     "output_type": "execute_result"
    }
   ],
   "source": [
    "[num**3 for num in range(1,10)]"
   ]
  },
  {
   "cell_type": "code",
   "execution_count": 40,
   "metadata": {},
   "outputs": [
    {
     "data": {
      "text/plain": [
       "[4, 5, 6, 7, 8, 9, 10, 11, 12]"
      ]
     },
     "execution_count": 40,
     "metadata": {},
     "output_type": "execute_result"
    }
   ],
   "source": [
    "[num+3 for num in range(1,10)]"
   ]
  },
  {
   "cell_type": "code",
   "execution_count": 41,
   "metadata": {},
   "outputs": [
    {
     "data": {
      "text/plain": [
       "[125, 216, 343, 512, 729]"
      ]
     },
     "execution_count": 41,
     "metadata": {},
     "output_type": "execute_result"
    }
   ],
   "source": [
    "[num**3 for num in range(1,10) if num>4]"
   ]
  },
  {
   "cell_type": "code",
   "execution_count": 42,
   "metadata": {},
   "outputs": [
    {
     "data": {
      "text/plain": [
       "[1, 8, 27]"
      ]
     },
     "execution_count": 42,
     "metadata": {},
     "output_type": "execute_result"
    }
   ],
   "source": [
    "[num**3 for num in range(1,10) if num<4]"
   ]
  },
  {
   "cell_type": "code",
   "execution_count": 43,
   "metadata": {},
   "outputs": [
    {
     "data": {
      "text/plain": [
       "[10, 12, 14, 16, 18]"
      ]
     },
     "execution_count": 43,
     "metadata": {},
     "output_type": "execute_result"
    }
   ],
   "source": [
    "[num*2 for num in range(1,10) if num>4]"
   ]
  },
  {
   "cell_type": "code",
   "execution_count": null,
   "metadata": {},
   "outputs": [],
   "source": []
  }
 ],
 "metadata": {
  "kernelspec": {
   "display_name": "Python 3",
   "language": "python",
   "name": "python3"
  },
  "language_info": {
   "codemirror_mode": {
    "name": "ipython",
    "version": 3
   },
   "file_extension": ".py",
   "mimetype": "text/x-python",
   "name": "python",
   "nbconvert_exporter": "python",
   "pygments_lexer": "ipython3",
   "version": "3.7.3"
  }
 },
 "nbformat": 4,
 "nbformat_minor": 2
}
